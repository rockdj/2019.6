{
 "cells": [
  {
   "cell_type": "code",
   "execution_count": 1,
   "metadata": {},
   "outputs": [
    {
     "data": {
      "text/plain": [
       "\"img = cv.imread('q0.jpg')\\n\\n#python 图像翻转,使用openCV flip()方法翻转\\nxImg = cv.flip(img,1,dst=None) #水平镜像\\nxImg1 = cv.flip(img,0,dst=None) #垂直镜像\\nxImg2 = cv.flip(img,-1,dst=None) #对角镜像\\nplt.subplot(221),plt.imshow(img)\\nplt.title('Original Image'), plt.xticks([]), plt.yticks([])\\nplt.subplot(222),plt.imshow(xImg)\\nplt.title('Remap shuiping Image'), plt.xticks([]), plt.yticks([])\\nplt.subplot(223),plt.imshow(xImg1)\\nplt.title('Remap chuizhi Image'), plt.xticks([]), plt.yticks([])\\nplt.subplot(224),plt.imshow(xImg2)\\nplt.title('Remap duijiao Image'), plt.xticks([]), plt.yticks([])\\n\\nplt.show()\""
      ]
     },
     "execution_count": 1,
     "metadata": {},
     "output_type": "execute_result"
    }
   ],
   "source": [
    "import numpy as np\n",
    "import cv2 as cv\n",
    "from matplotlib import pyplot as plt\n",
    "import sys\n",
    "import copy\n",
    "\n",
    "#python 图像翻转,自定义翻转\n",
    "\n",
    "\"\"\"img = cv.imread('q0.jpg')\n",
    "\n",
    "#python 图像翻转,使用openCV flip()方法翻转\n",
    "xImg = cv.flip(img,1,dst=None) #水平镜像\n",
    "xImg1 = cv.flip(img,0,dst=None) #垂直镜像\n",
    "xImg2 = cv.flip(img,-1,dst=None) #对角镜像\n",
    "plt.subplot(221),plt.imshow(img)\n",
    "plt.title('Original Image'), plt.xticks([]), plt.yticks([])\n",
    "plt.subplot(222),plt.imshow(xImg)\n",
    "plt.title('Remap shuiping Image'), plt.xticks([]), plt.yticks([])\n",
    "plt.subplot(223),plt.imshow(xImg1)\n",
    "plt.title('Remap chuizhi Image'), plt.xticks([]), plt.yticks([])\n",
    "plt.subplot(224),plt.imshow(xImg2)\n",
    "plt.title('Remap duijiao Image'), plt.xticks([]), plt.yticks([])\n",
    "\n",
    "plt.show()\"\"\"\n"
   ]
  },
  {
   "cell_type": "code",
   "execution_count": 4,
   "metadata": {},
   "outputs": [
    {
     "name": "stdout",
     "output_type": "stream",
     "text": [
      "overlap0.jpg\n"
     ]
    },
    {
     "ename": "NameError",
     "evalue": "name 'xImg2' is not defined",
     "output_type": "error",
     "traceback": [
      "\u001b[1;31m---------------------------------------------------------------------------\u001b[0m",
      "\u001b[1;31mNameError\u001b[0m                                 Traceback (most recent call last)",
      "\u001b[1;32m<ipython-input-4-59b329be7b7b>\u001b[0m in \u001b[0;36m<module>\u001b[1;34m\u001b[0m\n\u001b[0;32m     16\u001b[0m \u001b[1;33m\u001b[0m\u001b[0m\n\u001b[0;32m     17\u001b[0m     \u001b[0moutfilename\u001b[0m \u001b[1;33m=\u001b[0m \u001b[1;34m'overlap'\u001b[0m\u001b[1;33m+\u001b[0m\u001b[0mstr\u001b[0m\u001b[1;33m(\u001b[0m\u001b[0mj\u001b[0m\u001b[1;33m)\u001b[0m\u001b[1;33m+\u001b[0m\u001b[1;34m'.jpg'\u001b[0m\u001b[1;33m\u001b[0m\u001b[1;33m\u001b[0m\u001b[0m\n\u001b[1;32m---> 18\u001b[1;33m     \u001b[0mcv\u001b[0m\u001b[1;33m.\u001b[0m\u001b[0mimwrite\u001b[0m\u001b[1;33m(\u001b[0m\u001b[0moutfilename\u001b[0m\u001b[1;33m,\u001b[0m\u001b[0mxImg2\u001b[0m\u001b[1;33m)\u001b[0m\u001b[1;33m\u001b[0m\u001b[1;33m\u001b[0m\u001b[0m\n\u001b[0m\u001b[0;32m     19\u001b[0m     \u001b[0mj\u001b[0m\u001b[1;33m+=\u001b[0m\u001b[1;36m1\u001b[0m\u001b[1;33m\u001b[0m\u001b[1;33m\u001b[0m\u001b[0m\n\u001b[0;32m     20\u001b[0m \u001b[1;33m\u001b[0m\u001b[0m\n",
      "\u001b[1;31mNameError\u001b[0m: name 'xImg2' is not defined"
     ]
    }
   ],
   "source": [
    "import numpy as np\n",
    "import cv2 as cv\n",
    "from matplotlib import pyplot as plt\n",
    "import sys\n",
    "import copy\n",
    "\n",
    "\n",
    "j = 17\n",
    "for i in range(17):\n",
    "    filename = 'overlap'+str(i)+'.jpg'\n",
    "    print(filename)\n",
    "    img = cv.imread(filename,1)\n",
    "    #xImg = cv.flip(img,1,dst=None) #水平镜像\n",
    "    #xImg1 = cv.flip(img,0,dst=None) #垂直镜像\n",
    "    #xImg2 = cv.flip(img,-1,dst=None) #对角镜像\n",
    "\n",
    "    outfilename = 'overlap'+str(j)+'.jpg'\n",
    "    cv.imwrite(outfilename,xImg2)\n",
    "    j+=1\n",
    "\n",
    "\n",
    "\n",
    "\n",
    "\n"
   ]
  },
  {
   "cell_type": "code",
   "execution_count": null,
   "metadata": {},
   "outputs": [],
   "source": []
  }
 ],
 "metadata": {
  "kernelspec": {
   "display_name": "Python 3",
   "language": "python",
   "name": "python3"
  },
  "language_info": {
   "codemirror_mode": {
    "name": "ipython",
    "version": 3
   },
   "file_extension": ".py",
   "mimetype": "text/x-python",
   "name": "python",
   "nbconvert_exporter": "python",
   "pygments_lexer": "ipython3",
   "version": "3.6.8"
  }
 },
 "nbformat": 4,
 "nbformat_minor": 2
}
