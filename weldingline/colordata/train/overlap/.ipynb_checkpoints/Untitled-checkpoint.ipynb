{
 "cells": [
  {
   "cell_type": "code",
   "execution_count": 2,
   "metadata": {},
   "outputs": [
    {
     "name": "stdout",
     "output_type": "stream",
     "text": [
      "overlap0.png\n",
      "overlap1.png\n",
      "overlap2.png\n",
      "overlap3.png\n",
      "overlap4.png\n",
      "overlap5.png\n",
      "overlap6.png\n"
     ]
    }
   ],
   "source": [
    "import cv2\n",
    "for i in range(7):\n",
    "    \n",
    "    filename = 'overlap'+str(i)+'.png'\n",
    "    print(filename)\n",
    "    img = cv2.imread(str(filename),1)\n",
    "    dst = cv2.resize(img,(512, 256))\n",
    "    outfilename = 'overlap'+str(i)+'.jpg'\n",
    "    cv2.imwrite(str(outfilename),dst)"
   ]
  },
  {
   "cell_type": "code",
   "execution_count": null,
   "metadata": {},
   "outputs": [],
   "source": []
  }
 ],
 "metadata": {
  "kernelspec": {
   "display_name": "Python 3",
   "language": "python",
   "name": "python3"
  },
  "language_info": {
   "codemirror_mode": {
    "name": "ipython",
    "version": 3
   },
   "file_extension": ".py",
   "mimetype": "text/x-python",
   "name": "python",
   "nbconvert_exporter": "python",
   "pygments_lexer": "ipython3",
   "version": "3.6.8"
  }
 },
 "nbformat": 4,
 "nbformat_minor": 2
}
