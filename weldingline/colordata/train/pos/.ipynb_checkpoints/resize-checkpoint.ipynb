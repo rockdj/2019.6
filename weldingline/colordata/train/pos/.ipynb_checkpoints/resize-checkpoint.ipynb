{
 "cells": [
  {
   "cell_type": "code",
   "execution_count": 25,
   "metadata": {},
   "outputs": [
    {
     "name": "stdout",
     "output_type": "stream",
     "text": [
      "asymmetry0.jpg\n",
      "asymmetry1.jpg\n",
      "asymmetry2.jpg\n",
      "asymmetry3.jpg\n",
      "asymmetry4.jpg\n",
      "asymmetry5.jpg\n",
      "asymmetry6.jpg\n",
      "asymmetry7.jpg\n",
      "asymmetry8.jpg\n",
      "asymmetry9.jpg\n",
      "asymmetry10.jpg\n",
      "asymmetry11.jpg\n",
      "asymmetry12.jpg\n",
      "asymmetry13.jpg\n",
      "asymmetry14.jpg\n",
      "asymmetry15.jpg\n",
      "asymmetry16.jpg\n",
      "asymmetry17.jpg\n",
      "asymmetry18.jpg\n",
      "asymmetry19.jpg\n",
      "asymmetry20.jpg\n",
      "asymmetry21.jpg\n",
      "asymmetry22.jpg\n",
      "asymmetry23.jpg\n",
      "asymmetry24.jpg\n",
      "asymmetry25.jpg\n",
      "asymmetry26.jpg\n",
      "asymmetry27.jpg\n",
      "asymmetry28.jpg\n",
      "asymmetry29.jpg\n",
      "asymmetry30.jpg\n",
      "asymmetry31.jpg\n",
      "asymmetry32.jpg\n",
      "asymmetry33.jpg\n"
     ]
    }
   ],
   "source": [
    "import cv2\n",
    "for i in range(34):\n",
    "    \n",
    "    filename = 'asymmetry'+str(i)+'.jpg'\n",
    "    #print(filename)\n",
    "    img = cv2.imread(str(filename),1)\n",
    "    dst = cv2.resize(img,(512, 256))\n",
    "    outfilename = 'asymmetry'+str(i)+'.jpg'\n",
    "    cv2.imwrite(str(outfilename),dst)"
   ]
  },
  {
   "cell_type": "code",
   "execution_count": null,
   "metadata": {},
   "outputs": [],
   "source": []
  }
 ],
 "metadata": {
  "kernelspec": {
   "display_name": "Python 3",
   "language": "python",
   "name": "python3"
  },
  "language_info": {
   "codemirror_mode": {
    "name": "ipython",
    "version": 3
   },
   "file_extension": ".py",
   "mimetype": "text/x-python",
   "name": "python",
   "nbconvert_exporter": "python",
   "pygments_lexer": "ipython3",
   "version": "3.6.8"
  }
 },
 "nbformat": 4,
 "nbformat_minor": 2
}
