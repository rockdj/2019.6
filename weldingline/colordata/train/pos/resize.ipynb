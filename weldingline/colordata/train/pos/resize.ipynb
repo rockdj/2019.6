{
 "cells": [
  {
   "cell_type": "code",
   "execution_count": 1,
   "metadata": {},
   "outputs": [],
   "source": [
    "import cv2\n",
    "j=52\n",
    "for i in range(52,363):\n",
    "    filename = 'q'+str(i)+'.jpg'\n",
    "    img = cv2.imread(filename,1)\n",
    "    dst = cv2.resize(img,(512, 256))\n",
    "    outfilename = 'p'+str(i)+'.jpg'\n",
    "    #j+=1\n",
    "    cv2.imwrite(outfilename,dst)\n"
   ]
  },
  {
   "cell_type": "code",
   "execution_count": null,
   "metadata": {},
   "outputs": [],
   "source": []
  }
 ],
 "metadata": {
  "kernelspec": {
   "display_name": "Python 3",
   "language": "python",
   "name": "python3"
  },
  "language_info": {
   "codemirror_mode": {
    "name": "ipython",
    "version": 3
   },
   "file_extension": ".py",
   "mimetype": "text/x-python",
   "name": "python",
   "nbconvert_exporter": "python",
   "pygments_lexer": "ipython3",
   "version": "3.6.8"
  }
 },
 "nbformat": 4,
 "nbformat_minor": 2
}
