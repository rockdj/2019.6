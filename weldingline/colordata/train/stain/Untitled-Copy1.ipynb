{
 "cells": [
  {
   "cell_type": "code",
   "execution_count": 4,
   "metadata": {},
   "outputs": [
    {
     "name": "stdout",
     "output_type": "stream",
     "text": [
      "stain0.jpg\n",
      "stain1.jpg\n",
      "stain2.jpg\n",
      "stain3.jpg\n",
      "stain4.jpg\n",
      "stain5.jpg\n",
      "stain6.jpg\n",
      "stain7.jpg\n",
      "stain8.jpg\n",
      "stain9.jpg\n",
      "stain10.jpg\n",
      "stain11.jpg\n",
      "stain12.jpg\n",
      "stain13.jpg\n",
      "stain14.jpg\n",
      "stain15.jpg\n",
      "stain16.jpg\n",
      "stain17.jpg\n",
      "stain18.jpg\n",
      "stain19.jpg\n",
      "stain20.jpg\n",
      "stain21.jpg\n",
      "stain22.jpg\n",
      "stain23.jpg\n",
      "stain24.jpg\n",
      "stain25.jpg\n",
      "stain26.jpg\n",
      "stain27.jpg\n",
      "stain28.jpg\n",
      "stain29.jpg\n",
      "stain30.jpg\n",
      "stain31.jpg\n",
      "stain32.jpg\n",
      "stain33.jpg\n",
      "stain34.jpg\n",
      "stain35.jpg\n",
      "stain36.jpg\n",
      "stain37.jpg\n",
      "stain38.jpg\n",
      "stain39.jpg\n",
      "stain40.jpg\n",
      "stain41.jpg\n",
      "stain42.jpg\n",
      "stain43.jpg\n",
      "stain44.jpg\n",
      "stain45.jpg\n",
      "stain46.jpg\n",
      "stain47.jpg\n",
      "stain48.jpg\n",
      "stain49.jpg\n",
      "stain50.jpg\n",
      "stain51.jpg\n",
      "stain52.jpg\n",
      "stain53.jpg\n",
      "stain54.jpg\n",
      "stain55.jpg\n",
      "stain56.jpg\n",
      "stain57.jpg\n",
      "stain58.jpg\n",
      "stain59.jpg\n",
      "stain60.jpg\n",
      "stain61.jpg\n",
      "stain62.jpg\n",
      "stain63.jpg\n"
     ]
    }
   ],
   "source": [
    "import cv2\n",
    "for i in range(64):\n",
    "    \n",
    "    filename = 'stain'+str(i)+'.jpg'\n",
    "    print(filename)\n",
    "    img = cv2.imread(str(filename),1)\n",
    "    dst = cv2.resize(img,(512, 256))\n",
    "    outfilename = 'stain'+str(i)+'.jpg'\n",
    "    cv2.imwrite(str(outfilename),dst)"
   ]
  },
  {
   "cell_type": "code",
   "execution_count": null,
   "metadata": {},
   "outputs": [],
   "source": []
  }
 ],
 "metadata": {
  "kernelspec": {
   "display_name": "Python 3",
   "language": "python",
   "name": "python3"
  },
  "language_info": {
   "codemirror_mode": {
    "name": "ipython",
    "version": 3
   },
   "file_extension": ".py",
   "mimetype": "text/x-python",
   "name": "python",
   "nbconvert_exporter": "python",
   "pygments_lexer": "ipython3",
   "version": "3.6.8"
  }
 },
 "nbformat": 4,
 "nbformat_minor": 2
}
